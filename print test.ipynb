{
 "cells": [
  {
   "cell_type": "code",
   "execution_count": 1,
   "id": "d8749c4f",
   "metadata": {},
   "outputs": [
    {
     "name": "stdout",
     "output_type": "stream",
     "text": [
      "my name is emmanuel\n"
     ]
    }
   ],
   "source": [
    "print('my name is emmanuel')"
   ]
  },
  {
   "cell_type": "code",
   "execution_count": 2,
   "id": "9f8916b5",
   "metadata": {},
   "outputs": [
    {
     "name": "stdout",
     "output_type": "stream",
     "text": [
      "where do we go from here\n"
     ]
    }
   ],
   "source": [
    "print('where do we go from here')"
   ]
  },
  {
   "cell_type": "code",
   "execution_count": 3,
   "id": "5f264624",
   "metadata": {},
   "outputs": [
    {
     "name": "stdout",
     "output_type": "stream",
     "text": [
      "yahoo\n"
     ]
    }
   ],
   "source": [
    "print('yahoo')"
   ]
  },
  {
   "cell_type": "code",
   "execution_count": null,
   "id": "b03f98ad",
   "metadata": {},
   "outputs": [],
   "source": []
  }
 ],
 "metadata": {
  "kernelspec": {
   "display_name": "Python 3 (ipykernel)",
   "language": "python",
   "name": "python3"
  },
  "language_info": {
   "codemirror_mode": {
    "name": "ipython",
    "version": 3
   },
   "file_extension": ".py",
   "mimetype": "text/x-python",
   "name": "python",
   "nbconvert_exporter": "python",
   "pygments_lexer": "ipython3",
   "version": "3.9.7"
  }
 },
 "nbformat": 4,
 "nbformat_minor": 5
}
