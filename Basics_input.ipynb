{
 "cells": [
  {
   "cell_type": "markdown",
   "id": "b77c0cbd",
   "metadata": {},
   "source": [
    "## Activity 2.2.1: user_input"
   ]
  },
  {
   "cell_type": "code",
   "execution_count": 1,
   "id": "ec016d5c",
   "metadata": {},
   "outputs": [
    {
     "name": "stdout",
     "output_type": "stream",
     "text": [
      "what is your name?\n",
      "emmanuel\n",
      "It is nice to meet you human emmanuel\n"
     ]
    }
   ],
   "source": [
    "# ask user to enter their name\n",
    "print('what is your name?')\n",
    "name = input()\n",
    "print(f'It is nice to meet you human {name}')\n"
   ]
  },
  {
   "cell_type": "code",
   "execution_count": 2,
   "id": "eaab4585",
   "metadata": {},
   "outputs": [
    {
     "name": "stdout",
     "output_type": "stream",
     "text": [
      "what is your name human?: Emmanuel\n",
      "it is nice to meet you human Emmanuel\n"
     ]
    }
   ],
   "source": [
    "# read in user's name\n",
    "name = input('what is your name human?: ')\n",
    "print(f'it is nice to meet you human {name}')"
   ]
  },
  {
   "cell_type": "code",
   "execution_count": 3,
   "id": "c63763fd",
   "metadata": {},
   "outputs": [
    {
     "name": "stdout",
     "output_type": "stream",
     "text": [
      "what is your name?: EMMANUEL\n",
      "how old are you?: 40\n",
      "how tall are you?: 1.9\n",
      "how much do you weight?: 76\n",
      "EMMANUEL, you are 40 year old and your bmi is 21.05.\n"
     ]
    }
   ],
   "source": [
    "name = input('what is your name?: ')\n",
    "age = input('how old are you?: ')\n",
    "height = float(input('how tall are you?: '))\n",
    "weight_in_kg = float(input('how much do you weight?: '))\n",
    "\n",
    "#calculating bmi\n",
    "bmi = weight_in_kg/height**2\n",
    "\n",
    "print(f'{name}, you are {age} year old and your bmi is {bmi:.2f}.')"
   ]
  },
  {
   "cell_type": "markdown",
   "id": "836fc1f1",
   "metadata": {},
   "source": [
    "## Activity 2.2.3: String operator"
   ]
  },
  {
   "cell_type": "code",
   "execution_count": 5,
   "id": "4e1dacf4",
   "metadata": {},
   "outputs": [
    {
     "name": "stdout",
     "output_type": "stream",
     "text": [
      "please enter the number of lives: 3\n",
      "please enter the energy level: 10\n",
      "please enter the shield lever: 7\n",
      "live: ♥♥♥\n",
      "energy: ♦♦♦♦♦♦♦♦♦♦\n",
      "shield: ♦♦♦♦♦♦♦\n"
     ]
    }
   ],
   "source": [
    "# displaying the lives, enery and shield of beep\n",
    "lives = int(input('please enter the number of lives: '))\n",
    "energy_level = int(input('please enter the energy level: '))\n",
    "shield_level = int(input('please enter the shield lever: '))\n",
    "\n",
    "# displaying the lives\n",
    "live_display = lives * '♥'\n",
    "# displaying the energy levels\n",
    "energy_display = energy_level * '♦'\n",
    "# displaying the shield_level\n",
    "shield_display = shield_level * '♦'\n",
    "\n",
    "print(f'live: {live_display}')\n",
    "print(f'energy: {energy_display}')\n",
    "print(f'shield: {shield_display}')\n",
    "\n"
   ]
  },
  {
   "cell_type": "code",
   "execution_count": null,
   "id": "afb2cc10",
   "metadata": {},
   "outputs": [],
   "source": []
  }
 ],
 "metadata": {
  "kernelspec": {
   "display_name": "Python 3 (ipykernel)",
   "language": "python",
   "name": "python3"
  },
  "language_info": {
   "codemirror_mode": {
    "name": "ipython",
    "version": 3
   },
   "file_extension": ".py",
   "mimetype": "text/x-python",
   "name": "python",
   "nbconvert_exporter": "python",
   "pygments_lexer": "ipython3",
   "version": "3.9.7"
  }
 },
 "nbformat": 4,
 "nbformat_minor": 5
}
