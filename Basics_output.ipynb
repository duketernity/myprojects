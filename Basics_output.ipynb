{
 "cells": [
  {
   "cell_type": "markdown",
   "id": "7a7731d9",
   "metadata": {},
   "source": [
    "## \"Activity 2.1.1: simple_message"
   ]
  },
  {
   "cell_type": "code",
   "execution_count": 2,
   "id": "3e6ff897",
   "metadata": {},
   "outputs": [
    {
     "name": "stdout",
     "output_type": "stream",
     "text": [
      "systems failure imminent!\n"
     ]
    }
   ],
   "source": [
    "# display message to the standard output\n",
    "print(\"systems failure imminent!\")"
   ]
  },
  {
   "cell_type": "markdown",
   "id": "3a42fee6",
   "metadata": {},
   "source": [
    "## Activity 2.1.2: multiline_message"
   ]
  },
  {
   "cell_type": "code",
   "execution_count": 3,
   "id": "347c3dfb",
   "metadata": {},
   "outputs": [
    {
     "name": "stdout",
     "output_type": "stream",
     "text": [
      "systems failure imminent!\n",
      "system reboot has been initiated....\n"
     ]
    }
   ],
   "source": [
    "# display message to the standard output\n",
    "print(\"systems failure imminent!\")\n",
    "print('system reboot has been initiated....')"
   ]
  },
  {
   "cell_type": "code",
   "execution_count": 4,
   "id": "191c1e2c",
   "metadata": {},
   "outputs": [
    {
     "name": "stdout",
     "output_type": "stream",
     "text": [
      "systems failure imminent!\n",
      "system reboot has been initiated....\n",
      "\n",
      "\n",
      "....rebooting sensory systems\n",
      "...rebooting output motors\n",
      "...rebooting hover engine\n",
      "\n",
      "\n",
      "system online.\n"
     ]
    }
   ],
   "source": [
    "# additional message to the standard output\n",
    "print(\"systems failure imminent!\")\n",
    "print('system reboot has been initiated....')\n",
    "print()\n",
    "print()\n",
    "print('....rebooting sensory systems')\n",
    "print('...rebooting output motors')\n",
    "print('...rebooting hover engine')\n",
    "print()\n",
    "print()\n",
    "print('system online.')"
   ]
  },
  {
   "cell_type": "markdown",
   "id": "b706dcb1",
   "metadata": {},
   "source": [
    "## Activity 2.1.3: escape_characters"
   ]
  },
  {
   "cell_type": "code",
   "execution_count": 6,
   "id": "b881e3b1",
   "metadata": {},
   "outputs": [
    {
     "name": "stdout",
     "output_type": "stream",
     "text": [
      "\n",
      " displays a new line\n",
      "\t displays a tab space\n",
      "\\ displays a back slash\n",
      "\" displays a double quote\n",
      "'displasys a single quote\n"
     ]
    }
   ],
   "source": [
    "# display escape characters\n",
    "print(\"\\n displays a new line\")\n",
    "print(\"\\t displays a tab space\")\n",
    "print(\"\\\\ displays a back slash\")\n",
    "print(\"\\\" displays a double quote\")\n",
    "print(\"\\'displasys a single quote\")\n"
   ]
  },
  {
   "cell_type": "code",
   "execution_count": 13,
   "id": "062e1063",
   "metadata": {},
   "outputs": [
    {
     "name": "stdout",
     "output_type": "stream",
     "text": [
      "\t\"I am beep!\"\n"
     ]
    }
   ],
   "source": [
    "#displaying message which has a tab space and double quotes\n",
    "\n",
    "print(\"\\t\\\"I am beep!\\\"\")"
   ]
  },
  {
   "cell_type": "code",
   "execution_count": 15,
   "id": "6f51f463",
   "metadata": {},
   "outputs": [
    {
     "name": "stdout",
     "output_type": "stream",
     "text": [
      "##########\n",
      "#        #\n",
      "#        #\n",
      "##########\n"
     ]
    }
   ],
   "source": [
    "#display a box\n",
    "\n",
    "print('##########')\n",
    "print('#        #')\n",
    "print('#        #')\n",
    "print('##########')\n"
   ]
  },
  {
   "cell_type": "markdown",
   "id": "5eb1ba91",
   "metadata": {},
   "source": [
    "## Activity 2.1.4: ascii_art"
   ]
  },
  {
   "cell_type": "code",
   "execution_count": 17,
   "id": "501acddc",
   "metadata": {},
   "outputs": [
    {
     "name": "stdout",
     "output_type": "stream",
     "text": [
      "##########\n",
      "# --  -- #\n",
      "#   ---  #\n",
      "##########\n",
      "  #   # \n",
      " ##   ## \n",
      "  ##### \n"
     ]
    }
   ],
   "source": [
    "#displaying the robot beep\n",
    "\n",
    "print('##########')\n",
    "print('# --  -- #')\n",
    "print('#   ---  #')\n",
    "print('##########')\n",
    "print('  #   # ')\n",
    "print(' ##   ## ')\n",
    "print('  ##### ')"
   ]
  },
  {
   "cell_type": "code",
   "execution_count": null,
   "id": "1aa6c31e",
   "metadata": {},
   "outputs": [],
   "source": []
  }
 ],
 "metadata": {
  "kernelspec": {
   "display_name": "Python 3 (ipykernel)",
   "language": "python",
   "name": "python3"
  },
  "language_info": {
   "codemirror_mode": {
    "name": "ipython",
    "version": 3
   },
   "file_extension": ".py",
   "mimetype": "text/x-python",
   "name": "python",
   "nbconvert_exporter": "python",
   "pygments_lexer": "ipython3",
   "version": "3.9.7"
  }
 },
 "nbformat": 4,
 "nbformat_minor": 5
}
